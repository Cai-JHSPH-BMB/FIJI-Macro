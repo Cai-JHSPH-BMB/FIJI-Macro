{
 "cells": [
  {
   "cell_type": "markdown",
   "metadata": {},
   "source": [
    "## Large File Visualization and Splitting"
   ]
  },
  {
   "cell_type": "markdown",
   "metadata": {},
   "source": [
    "### Visualization with Napari\n",
    "\n",
    "use img.set_scene to set what number of scene for selection - the number starts with 0"
   ]
  },
  {
   "cell_type": "code",
   "execution_count": null,
   "metadata": {},
   "outputs": [],
   "source": [
    "\n",
    "##run in napari env - customize\n",
    "from aicsimageio import AICSImage\n",
    "from aicsimageio.writers import OmeTiffWriter\n",
    "# Get an AICSImage object\n",
    "img = AICSImage(\"Exp67_20230504_UOK121_CENPA_568_TEAD1_488_Hoeschet_01_Z-stack_01-Airyscan Processing-15.czi\")\n",
    "img.data  # returns 6D STCZYX numpy array\n",
    "img.dims  # returns string \"STCZYX\"\n",
    "img.shape  # returns tuple of dimension sizes in STCZYX order\n",
    "print(\"Dimentions will be\", img.dims)\n",
    "print(\"There are\", len(img.scenes), \"of scenes\")\n",
    "#Here you set what number of scene for selection - the number starts with 0\n",
    "img.set_scene(0)\n",
    "first_channel_data = img.get_image_data(\"ZYX\")"
   ]
  },
  {
   "cell_type": "markdown",
   "metadata": {},
   "source": [
    "### Add single channel image to Napari\n"
   ]
  },
  {
   "cell_type": "code",
   "execution_count": null,
   "metadata": {},
   "outputs": [],
   "source": [
    "import napari\n",
    "viewer = napari.view_image(first_channel_data, colormap='magma')\n",
    "\n",
    "#add second position to the napari GUI\n",
    "img.set_scene(0)\n",
    "data_4 = img.get_image_data(\"ZYX\")\n",
    "new_layer = viewer.add_image(data_4, colormap='magma')"
   ]
  },
  {
   "cell_type": "markdown",
   "metadata": {},
   "source": [
    "### Add multi-channel Image to Napari"
   ]
  },
  {
   "cell_type": "code",
   "execution_count": 5,
   "metadata": {},
   "outputs": [
    {
     "name": "stderr",
     "output_type": "stream",
     "text": [
      "/opt/homebrew/anaconda3/envs/napari/lib/python3.9/contextlib.py:119: FutureWarning: \n",
      "The 'gui_qt()' context manager is deprecated.\n",
      "If you are running napari from a script, please use 'napari.run()' as follows:\n",
      "\n",
      "    import napari\n",
      "\n",
      "    viewer = napari.Viewer()  # no prior setup needed\n",
      "    # other code using the viewer...\n",
      "    napari.run()\n",
      "\n",
      "In IPython or Jupyter, 'napari.run()' is not necessary. napari will automatically\n",
      "start an interactive event loop for you: \n",
      "\n",
      "    import napari\n",
      "    viewer = napari.Viewer()  # that's it!\n",
      "\n",
      "  return next(self.gen)\n"
     ]
    }
   ],
   "source": [
    "# for multi-channel images\n",
    "import napari\n",
    "viewer = napari.Viewer()\n",
    "channel_names = img.channel_names\n",
    "img.set_scene(0)\n",
    "with napari.gui_qt():\n",
    "    viewer = napari.Viewer()\n",
    "    for c, c_name in enumerate(channel_names):\n",
    "        viewer.add_image(img.get_image_data(\"ZYX\", C=c, S=0, T=0), \n",
    "                         name=c_name)"
   ]
  },
  {
   "cell_type": "markdown",
   "metadata": {},
   "source": [
    "### Split Image \n",
    "\n",
    "First check with file list"
   ]
  },
  {
   "cell_type": "code",
   "execution_count": 4,
   "metadata": {},
   "outputs": [
    {
     "data": {
      "text/plain": [
       "['airyscan/Exp67_20230504_UOK121_CENPA_568_TEAD1_488_Hoeschet_01_Z-stack_01-Airyscan Processing-15.czi',\n",
       " 'airyscan/Exp67_20230504_UOK121_CENPA_568_TEAD1_488_Hoeschet_01_Z-stack_02-Airyscan Processing-16.czi',\n",
       " 'airyscan/Exp67_20230504_UOK121_CENPA_568_TEAD1_488_Hoeschet_01_Z-stack_03-Airyscan Processing-17.czi',\n",
       " 'airyscan/Exp67_20230504_UOK121_CENPA_568_TEAD1_488_Hoeschet_01_Z-stack_04-Airyscan Processing-18.czi',\n",
       " 'airyscan/Exp67_20230504_UOK121_CENPA_568_TEAD1_488_Hoeschet_01_Z-stack_05-Airyscan Processing-19.czi',\n",
       " 'airyscan/Exp67_20230504_UOK121_CENPA_568_TEAD1_488_Hoeschet_01_Z-stack_06-Airyscan Processing-21.czi']"
      ]
     },
     "execution_count": 4,
     "metadata": {},
     "output_type": "execute_result"
    }
   ],
   "source": [
    "from pathlib import Path\n",
    "\n",
    "mydir = Path(\"airyscan/\")\n",
    "file_list = [] # create an empty list\n",
    "\n",
    "for file in mydir.iterdir():\n",
    "    if file.suffix == '.czi' and not file.name.startswith(\"._\"):\n",
    "        file_list.append(str(file)) # append in files in folder with .tif\n",
    "\n",
    "file_list"
   ]
  },
  {
   "cell_type": "markdown",
   "metadata": {},
   "source": [
    "### Split Image\n",
    "\n",
    "Split only 'scenes/position'."
   ]
  },
  {
   "cell_type": "code",
   "execution_count": 5,
   "metadata": {},
   "outputs": [],
   "source": [
    "import os\n",
    "from aicsimageio import AICSImage\n",
    "from aicsimageio.writers import OmeTiffWriter\n",
    "from pathlib import Path\n",
    "\n",
    "#following code only change when 3 channals\n",
    "\n",
    "if not os.path.exists(\"images\"):\n",
    "    os.makedirs(\"images\")\n",
    "for img in file_list: \n",
    "    filename = Path(img).stem\n",
    "    img2 = AICSImage(img) # Open an czi image in file_list\n",
    "    img_channels = img2.dims.C\n",
    "    img_scenes = len(img2.scenes)\n",
    "    img_time = img2.dims.T\n",
    "    # print(img_channels,img_scenes,img_time)\n",
    "    for S in range(img_scenes): #loop through scene by scene (aka positions)\n",
    "        # for T in range(img_time): #loop through time by time\n",
    "            # for C in range(img_channels):\n",
    "                img2.set_scene(S)\n",
    "                # print(S,T,C)\n",
    "                #single_img_data = img2.get_image_data(\"ZYX\",S=S,T=T,C=C)\n",
    "                single_img_data = img2.get_image_data(\"TCZYX\",S=S)\n",
    " #for two channel image, split C1C2#for three channel image, split C1C2C3#for four channel image, spliot C1C2C3C4\n",
    "                if img_channels == 2:\n",
    "                    file_name = f\"{filename}_{os.path.splitext(img)[1]}.S{S+1:03d}.T{T+1:03d}.C{C+1:03d}.ome.tif\"\n",
    "                    OmeTiffWriter.save(single_img_data,f\"./images/{file_name}\")\n",
    "                if img_channels == 3:\n",
    "                    file_name = f\"{filename}_{os.path.splitext(img)[1]}.S{S+1:03d}.ome.tif\"\n",
    "                    OmeTiffWriter.save(single_img_data,f\"./images/{file_name}\")\n",
    "                elif img_channels == 4:\n",
    "                    file_name = f\"{filename}_{os.path.splitext(img)[1]}.S{S+1:03d}.T{T+1:03d}.C{C+1:03d}.ome.tif\"\n",
    "                    OmeTiffWriter.save(single_img_data,f\"./images/{file_name}\")               "
   ]
  }
 ],
 "metadata": {
  "kernelspec": {
   "display_name": "base",
   "language": "python",
   "name": "python3"
  },
  "language_info": {
   "codemirror_mode": {
    "name": "ipython",
    "version": 3
   },
   "file_extension": ".py",
   "mimetype": "text/x-python",
   "name": "python",
   "nbconvert_exporter": "python",
   "pygments_lexer": "ipython3",
   "version": "3.9.16"
  },
  "orig_nbformat": 4
 },
 "nbformat": 4,
 "nbformat_minor": 2
}
