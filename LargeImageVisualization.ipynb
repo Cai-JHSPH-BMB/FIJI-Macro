{
 "cells": [
  {
   "cell_type": "code",
   "execution_count": 6,
   "metadata": {},
   "outputs": [
    {
     "name": "stdout",
     "output_type": "stream",
     "text": [
      "Dimentions will be <Dimensions [T: 1, C: 1, Z: 52, Y: 4072, X: 4072]>\n",
      "There are 6 of scenes\n"
     ]
    }
   ],
   "source": [
    "##run in napari env - customize\n",
    "from aicsimageio import AICSImage\n",
    "from aicsimageio.writers import OmeTiffWriter\n",
    "# Get an AICSImage object\n",
    "img = AICSImage(\"Exp15_20240115_UOK122-TEAD1-488_Z-stack_06_Airyscan Processing.czi\")\n",
    "img.data  # returns 6D STCZYX numpy array\n",
    "img.dims  # returns string \"STCZYX\"\n",
    "img.shape  # returns tuple of dimension sizes in STCZYX order\n",
    "print(\"Dimentions will be\", img.dims)\n",
    "print(\"There are\", len(img.scenes), \"of scenes\")\n",
    "#Here you set what number of scene for selection - the number starts with 0\n",
    "img.set_scene(0)\n",
    "first_channel_data = img.get_image_data(\"ZYX\")"
   ]
  },
  {
   "cell_type": "code",
   "execution_count": 7,
   "metadata": {},
   "outputs": [],
   "source": [
    "import napari\n",
    "viewer = napari.view_image(first_channel_data, colormap='magma')\n"
   ]
  },
  {
   "cell_type": "code",
   "execution_count": 13,
   "metadata": {},
   "outputs": [],
   "source": [
    "#add second position to the napari GUI\n",
    "img.set_scene(0)\n",
    "data_4 = img.get_image_data(\"ZYX\")\n",
    "new_layer = viewer.add_image(data_4, colormap='magma')\n",
    "\n"
   ]
  }
 ],
 "metadata": {
  "kernelspec": {
   "display_name": "base",
   "language": "python",
   "name": "python3"
  },
  "language_info": {
   "codemirror_mode": {
    "name": "ipython",
    "version": 3
   },
   "file_extension": ".py",
   "mimetype": "text/x-python",
   "name": "python",
   "nbconvert_exporter": "python",
   "pygments_lexer": "ipython3",
   "version": "3.9.16"
  },
  "orig_nbformat": 4
 },
 "nbformat": 4,
 "nbformat_minor": 2
}
